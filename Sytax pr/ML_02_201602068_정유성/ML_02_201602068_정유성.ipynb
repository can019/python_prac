{
 "cells": [
  {
   "cell_type": "code",
   "execution_count": 1,
   "metadata": {},
   "outputs": [],
   "source": [
    "dic_english = {\"apple\": \"사과\", \"banna\": \"바나나\",\"peach\": \"복숭아\",\"cherry\": \"체리\",\"lemon\": \"레몬\"}\n"
   ]
  },
  {
   "cell_type": "markdown",
   "metadata": {},
   "source": [
    "#### dic_english = {\"apple\": \"사과\", \"banna\": \"바나나\",\"peach\": \"복숭아\",\"cherry\": \"체리\",\"lemon\": \"레몬\"} <br/>\n",
    "\n",
    "##### dictionary 초기화"
   ]
  },
  {
   "cell_type": "code",
   "execution_count": null,
   "metadata": {},
   "outputs": [
    {
     "name": "stdout",
     "output_type": "stream",
     "text": [
      "영어 단어를 입력하시오 : apple\n",
      "사과\n",
      "{'apple': '사과', 'banna': '바나나', 'peach': '복숭아', 'cherry': '체리', 'lemon': '레몬'}\n",
      "\n",
      "\n",
      "영어 단어를 입력하시오 : pineapple\n",
      "한글 뜻을 입력하세요 : 파인애플\n",
      "{'apple': '사과', 'banna': '바나나', 'peach': '복숭아', 'cherry': '체리', 'lemon': '레몬', 'pineapple': '파인애플'}\n",
      "\n",
      "\n",
      "영어 단어를 입력하시오 : "
     ]
    }
   ],
   "source": [
    "while 1 :\n",
    "    print(\"영어 단어를 입력하시오 :\",end= \" \")\n",
    "    user_input=input()\n",
    "    if user_input in dic_english :\n",
    "        print(dic_english[user_input])\n",
    "    else :\n",
    "        print(\"한글 뜻을 입력하세요 : \", end = \"\")\n",
    "        dic_english[user_input] = input()\n",
    "    print(dic_english)\n",
    "    print('\\n')"
   ]
  },
  {
   "cell_type": "code",
   "execution_count": null,
   "metadata": {},
   "outputs": [],
   "source": []
  }
 ],
 "metadata": {
  "kernelspec": {
   "display_name": "Python 3",
   "language": "python",
   "name": "python3"
  },
  "language_info": {
   "codemirror_mode": {
    "name": "ipython",
    "version": 3
   },
   "file_extension": ".py",
   "mimetype": "text/x-python",
   "name": "python",
   "nbconvert_exporter": "python",
   "pygments_lexer": "ipython3",
   "version": "3.7.7"
  }
 },
 "nbformat": 4,
 "nbformat_minor": 4
}
